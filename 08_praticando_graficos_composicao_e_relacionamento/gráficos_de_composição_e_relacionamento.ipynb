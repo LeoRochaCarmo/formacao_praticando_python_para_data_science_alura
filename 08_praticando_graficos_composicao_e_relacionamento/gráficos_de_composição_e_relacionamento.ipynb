{
 "cells": [
  {
   "cell_type": "markdown",
   "metadata": {
    "id": "rtiLCtVCP31L"
   },
   "source": [
    "Nesse material a gente vai relembrar os conteúdos envolvendo **gráficos de composição e relacionamento**."
   ]
  },
  {
   "cell_type": "markdown",
   "metadata": {
    "id": "KW5GdGH3WU2q"
   },
   "source": [
    "<img src=\"https://www.alura.com.br/artigos/assets/tipo-de-visualizacao-de-dados/diagrama-visualizacao-dados.jpg\" alt=\"inserir alt\" height=\"600\">\n",
    "\n",
    "<font size=2>Fonte: [Dicas de como escolher o tipo de visualização de dados para sua análise](https://www.alura.com.br/artigos/tipo-de-visualizacao-de-dados?srsltid=AfmBOop3lo0vltYH_Amjl7KKg3Xg_8OD46YKZmX8Y73EXEXqkj3YrucW)</font>"
   ]
  },
  {
   "cell_type": "markdown",
   "metadata": {
    "id": "HkV-9PVXc_dl"
   },
   "source": [
    "## Composição"
   ]
  },
  {
   "cell_type": "markdown",
   "metadata": {
    "id": "YDt_41a4QFv0"
   },
   "source": [
    "Vamos iniciar com os gráficos de **composição**!\n",
    "\n",
    "Utilizamos gráficos de composição em visualizações quando queremos mostrar como diferentes partes contribuem para a formação de um todo. As visualizações indicadas para essa representação são aquelas que destacam partes de um todo.\n",
    "\n",
    "Podemos categorizar as opções de visualização com base em duas características do tipo de informação que tentamos transmitir:\n",
    "\n",
    "- Quando desejamos representar os dados em um único ponto no tempo ou em uma situação fixa, dizemos que é uma representação **estática**. O objetivo é mostrar uma composição em um instante específico.\n",
    "- Quando desejamos mostrar como a composição muda ao longo de um período ou em diferentes momentos, chamamos de uma representação **dinâmica**. Nesse caso, são analisadas mudanças estruturais ou tendências nos dados."
   ]
  },
  {
   "cell_type": "markdown",
   "metadata": {
    "id": "FriTGVYLSX6X"
   },
   "source": [
    "Para nossos exemplos utilizaremos as seguintes bibliotecas:\n",
    "\n",
    "* [`matplotlib`](https://matplotlib.org/stable/index.html)\n",
    "* [`plotly`](https://plotly.com/python/)\n",
    "* [`numpy`](https://numpy.org/doc/)"
   ]
  },
  {
   "cell_type": "code",
   "execution_count": 1,
   "metadata": {
    "id": "gCqsah7YKCEp"
   },
   "outputs": [],
   "source": [
    "import matplotlib.pyplot as plt\n",
    "import plotly.graph_objects as go\n",
    "import numpy as np"
   ]
  },
  {
   "cell_type": "markdown",
   "metadata": {
    "id": "0OFm82_RHGBe"
   },
   "source": [
    "> ***Nota:*** *Todos os dados utilizados nos exemplos desse notebook são fictícios.*"
   ]
  },
  {
   "cell_type": "markdown",
   "metadata": {
    "id": "Etkp_wFRk4Zg"
   },
   "source": [
    "### Gráfico de pizza"
   ]
  },
  {
   "cell_type": "markdown",
   "metadata": {
    "id": "DXuYVfdgY4kj"
   },
   "source": [
    "Quando queremos mostrar de forma simples poucas partes de um total, podemos utilizar uma representação como o **gráfico de pizza**. Embora seja necessário cuidado na construção da visualização, ele é válido para o caso que será apresentado.\n",
    "\n",
    "Digamos que desejamos mostrar a proporção das respostas `Sim` e `Não` em relação a uma pergunta feita aos nossos clientes."
   ]
  },
  {
   "cell_type": "code",
   "execution_count": 2,
   "metadata": {
    "id": "U04WLkGeriI1"
   },
   "outputs": [],
   "source": [
    "# Dados\n",
    "respostas = ['Sim', 'Não']  # Categorias de respostas\n",
    "porcentagens = [77, 23]  # Proporção de cada categoria\n",
    "cores = ['#76c7c0', '#ff6f61']  # Tons suaves de verde e vermelho"
   ]
  },
  {
   "cell_type": "code",
   "execution_count": 3,
   "metadata": {
    "colab": {
     "base_uri": "https://localhost:8080/",
     "height": 607
    },
    "executionInfo": {
     "elapsed": 685,
     "status": "ok",
     "timestamp": 1736532441280,
     "user": {
      "displayName": "Mirla Borges",
      "userId": "16057667184099544912"
     },
     "user_tz": 180
    },
    "id": "7w5n-8ZhPhXH",
    "outputId": "a447f1e6-fdf8-456f-e4e0-f7889c59a866"
   },
   "outputs": [
    {
     "data": {
      "image/png": "[encoded data removed]",
      "text/plain": [
       "<Figure size 600x600 with 1 Axes>"
      ]
     },
     "metadata": {},
     "output_type": "display_data"
    }
   ],
   "source": [
    "# Criando o gráfico de pizza\n",
    "plt.figure(figsize=(6, 6))  # Define o tamanho da figura (6x6 polegadas)\n",
    "plt.pie(\n",
    "    porcentagens,\n",
    "    labels=respostas,  # Adiciona os rótulos nas fatias\n",
    "    colors=cores,  # Define as cores de cada fatia\n",
    "    autopct='%1.1f%%',  # Exibe os percentuais nas fatias (1 casa decimal)\n",
    "    wedgeprops={'edgecolor': 'white'},  # Adiciona bordas brancas às fatias\n",
    ")\n",
    "\n",
    "# Adicionando o título\n",
    "plt.title('Você indicaria nosso serviço?', fontsize=18, fontweight='bold')\n",
    "\n",
    "# Exibe o gráfico\n",
    "plt.tight_layout() # Ajusta automaticamente os elementos do gráfico para evitar sobreposição (como textos ou rótulos)\n",
    "plt.show()"
   ]
  },
  {
   "cell_type": "markdown",
   "metadata": {
    "id": "SUBRPOPwVbK8"
   },
   "source": [
    "- [`plt.pie`](https://matplotlib.org/stable/api/_as_gen/matplotlib.pyplot.pie.html)"
   ]
  },
  {
   "cell_type": "markdown",
   "metadata": {
    "id": "s-zsvi-4k92N"
   },
   "source": [
    "### Gráfico de cascata"
   ]
  },
  {
   "cell_type": "markdown",
   "metadata": {
    "id": "7mLg540JzIhd"
   },
   "source": [
    "Quando nosso objetivo é destacar como se chegou a um resultado final, mostrando as alterações incrementais (positivas ou negativas) desde um valor inicial até o valor final, utilizamos o **gráfico de cascata**.\n",
    "\n",
    "No exemplo a seguir, vamos mostrar como passamos da **Receita Bruta** para o **Lucro Líquido**, detalhando as contribuições de cada componente."
   ]
  },
  {
   "cell_type": "code",
   "execution_count": 4,
   "metadata": {
    "id": "eHNeRdb_rfcy"
   },
   "outputs": [],
   "source": [
    "# Dados\n",
    "indicadores = ['Receita Bruta', 'Impostos', 'Despesas Operacionais', 'Lucro Líquido']  # Categorias\n",
    "valores = [500000, -100000, -150000, 250000]  # Valores em reais\n",
    "medidas = ['absolute', 'relative', 'relative', 'total']  # Configuração para cascata"
   ]
  },
  {
   "cell_type": "code",
   "execution_count": 5,
   "metadata": {
    "colab": {
     "base_uri": "https://localhost:8080/",
     "height": 542
    },
    "executionInfo": {
     "elapsed": 793,
     "status": "ok",
     "timestamp": 1736532513799,
     "user": {
      "displayName": "Mirla Borges",
      "userId": "16057667184099544912"
     },
     "user_tz": 180
    },
    "id": "0w9gVY8laeuQ",
    "outputId": "1504a5b3-9fda-44f9-9e69-647595bf5c48"
   },
   "outputs": [
    {
     "data": {
      "application/vnd.plotly.v1+json": {
       "config": {
        "plotlyServerURL": "https://plot.ly"
       },
       "data": [
        {
         "measure": [
          "absolute",
          "relative",
          "relative",
          "total"
         ],
         "text": [
          "R$ 500,000.00",
          "R$ -100,000.00",
          "R$ -150,000.00",
          "R$ 250,000.00"
         ],
         "type": "waterfall",
         "x": [
          "Receita Bruta",
          "Impostos",
          "Despesas Operacionais",
          "Lucro Líquido"
         ],
         "y": [
          500000,
          -100000,
          -150000,
          250000
         ]
        }
       ],
       "layout": {
        "font": {
         "size": 14
        },
        "plot_bgcolor": "white",
        "template": {
         "data": {
          "bar": [
           {
            "error_x": {
             "color": "#2a3f5f"
            },
            "error_y": {
             "color": "#2a3f5f"
            },
            "marker": {
             "line": {
              "color": "#E5ECF6",
              "width": 0.5
             },
             "pattern": {
              "fillmode": "overlay",
              "size": 10,
              "solidity": 0.2
             }
            },
            "type": "bar"
           }
          ],
          "barpolar": [
           {
            "marker": {
             "line": {
              "color": "#E5ECF6",
              "width": 0.5
             },
             "pattern": {
              "fillmode": "overlay",
              "size": 10,
              "solidity": 0.2
             }
            },
            "type": "barpolar"
           }
          ],
          "carpet": [
           {
            "aaxis": {
             "endlinecolor": "#2a3f5f",
             "gridcolor": "white",
             "linecolor": "white",
             "minorgridcolor": "white",
             "startlinecolor": "#2a3f5f"
            },
            "baxis": {
             "endlinecolor": "#2a3f5f",
             "gridcolor": "white",
             "linecolor": "white",
             "minorgridcolor": "white",
             "startlinecolor": "#2a3f5f"
            },
            "type": "carpet"
           }
          ],
          "choropleth": [
           {
            "colorbar": {
             "outlinewidth": 0,
             "ticks": ""
            },
            "type": "choropleth"
           }
          ],
          "contour": [
           {
            "colorbar": {
             "outlinewidth": 0,
             "ticks": ""
            },
            "colorscale": [
             [
              0,
              "#0d0887"
             ],
             [
              0.1111111111111111,
              "#46039f"
             ],
             [
              0.2222222222222222,
              "#7201a8"
             ],
             [
              0.3333333333333333,
              "#9c179e"
             ],
             [
              0.4444444444444444,
              "#bd3786"
             ],
             [
              0.5555555555555556,
              "#d8576b"
             ],
             [
              0.6666666666666666,
              "#ed7953"
             ],
             [
              0.7777777777777778,
              "#fb9f3a"
             ],
             [
              0.8888888888888888,
              "#fdca26"
             ],
             [
              1,
              "#f0f921"
             ]
            ],
            "type": "contour"
           }
          ],
          "contourcarpet": [
           {
            "colorbar": {
             "outlinewidth": 0,
             "ticks": ""
            },
            "type": "contourcarpet"
           }
          ],
          "heatmap": [
           {
            "colorbar": {
             "outlinewidth": 0,
             "ticks": ""
            },
            "colorscale": [
             [
              0,
              "#0d0887"
             ],
             [
              0.1111111111111111,
              "#46039f"
             ],
             [
              0.2222222222222222,
              "#7201a8"
             ],
             [
              0.3333333333333333,
              "#9c179e"
             ],
             [
              0.4444444444444444,
              "#bd3786"
             ],
             [
              0.5555555555555556,
              "#d8576b"
             ],
             [
              0.6666666666666666,
              "#ed7953"
             ],
             [
              0.7777777777777778,
              "#fb9f3a"
             ],
             [
              0.8888888888888888,
              "#fdca26"
             ],
             [
              1,
              "#f0f921"
             ]
            ],
            "type": "heatmap"
           }
          ],
          "histogram": [
           {
            "marker": {
             "pattern": {
              "fillmode": "overlay",
              "size": 10,
              "solidity": 0.2
             }
            },
            "type": "histogram"
           }
          ],
          "histogram2d": [
           {
            "colorbar": {
             "outlinewidth": 0,
             "ticks": ""
            },
            "colorscale": [
             [
              0,
              "#0d0887"
             ],
             [
              0.1111111111111111,
              "#46039f"
             ],
             [
              0.2222222222222222,
              "#7201a8"
             ],
             [
              0.3333333333333333,
              "#9c179e"
             ],
             [
              0.4444444444444444,
              "#bd3786"
             ],
             [
              0.5555555555555556,
              "#d8576b"
             ],
             [
              0.6666666666666666,
              "#ed7953"
             ],
             [
              0.7777777777777778,
              "#fb9f3a"
             ],
             [
              0.8888888888888888,
              "#fdca26"
             ],
             [
              1,
              "#f0f921"
             ]
            ],
            "type": "histogram2d"
           }
          ],
          "histogram2dcontour": [
           {
            "colorbar": {
             "outlinewidth": 0,
             "ticks": ""
            },
            "colorscale": [
             [
              0,
              "#0d0887"
             ],
             [
              0.1111111111111111,
              "#46039f"
             ],
             [
              0.2222222222222222,
              "#7201a8"
             ],
             [
              0.3333333333333333,
              "#9c179e"
             ],
             [
              0.4444444444444444,
              "#bd3786"
             ],
             [
              0.5555555555555556,
              "#d8576b"
             ],
             [
              0.6666666666666666,
              "#ed7953"
             ],
             [
              0.7777777777777778,
              "#fb9f3a"
             ],
             [
              0.8888888888888888,
              "#fdca26"
             ],
             [
              1,
              "#f0f921"
             ]
            ],
            "type": "histogram2dcontour"
           }
          ],
          "mesh3d": [
           {
            "colorbar": {
             "outlinewidth": 0,
             "ticks": ""
            },
            "type": "mesh3d"
           }
          ],
          "parcoords": [
           {
            "line": {
             "colorbar": {
              "outlinewidth": 0,
              "ticks": ""
             }
            },
            "type": "parcoords"
           }
          ],
          "pie": [
           {
            "automargin": true,
            "type": "pie"
           }
          ],
          "scatter": [
           {
            "fillpattern": {
             "fillmode": "overlay",
             "size": 10,
             "solidity": 0.2
            },
            "type": "scatter"
           }
          ],
          "scatter3d": [
           {
            "line": {
             "colorbar": {
              "outlinewidth": 0,
              "ticks": ""
             }
            },
            "marker": {
             "colorbar": {
              "outlinewidth": 0,
              "ticks": ""
             }
            },
            "type": "scatter3d"
           }
          ],
          "scattercarpet": [
           {
            "marker": {
             "colorbar": {
              "outlinewidth": 0,
              "ticks": ""
             }
            },
            "type": "scattercarpet"
           }
          ],
          "scattergeo": [
           {
            "marker": {
             "colorbar": {
              "outlinewidth": 0,
              "ticks": ""
             }
            },
            "type": "scattergeo"
           }
          ],
          "scattergl": [
           {
            "marker": {
             "colorbar": {
              "outlinewidth": 0,
              "ticks": ""
             }
            },
            "type": "scattergl"
           }
          ],
          "scattermap": [
           {
            "marker": {
             "colorbar": {
              "outlinewidth": 0,
              "ticks": ""
             }
            },
            "type": "scattermap"
           }
          ],
          "scattermapbox": [
           {
            "marker": {
             "colorbar": {
              "outlinewidth": 0,
              "ticks": ""
             }
            },
            "type": "scattermapbox"
           }
          ],
          "scatterpolar": [
           {
            "marker": {
             "colorbar": {
              "outlinewidth": 0,
              "ticks": ""
             }
            },
            "type": "scatterpolar"
           }
          ],
          "scatterpolargl": [
           {
            "marker": {
             "colorbar": {
              "outlinewidth": 0,
              "ticks": ""
             }
            },
            "type": "scatterpolargl"
           }
          ],
          "scatterternary": [
           {
            "marker": {
             "colorbar": {
              "outlinewidth": 0,
              "ticks": ""
             }
            },
            "type": "scatterternary"
           }
          ],
          "surface": [
           {
            "colorbar": {
             "outlinewidth": 0,
             "ticks": ""
            },
            "colorscale": [
             [
              0,
              "#0d0887"
             ],
             [
              0.1111111111111111,
              "#46039f"
             ],
             [
              0.2222222222222222,
              "#7201a8"
             ],
             [
              0.3333333333333333,
              "#9c179e"
             ],
             [
              0.4444444444444444,
              "#bd3786"
             ],
             [
              0.5555555555555556,
              "#d8576b"
             ],
             [
              0.6666666666666666,
              "#ed7953"
             ],
             [
              0.7777777777777778,
              "#fb9f3a"
             ],
             [
              0.8888888888888888,
              "#fdca26"
             ],
             [
              1,
              "#f0f921"
             ]
            ],
            "type": "surface"
           }
          ],
          "table": [
           {
            "cells": {
             "fill": {
              "color": "#EBF0F8"
             },
             "line": {
              "color": "white"
             }
            },
            "header": {
             "fill": {
              "color": "#C8D4E3"
             },
             "line": {
              "color": "white"
             }
            },
            "type": "table"
           }
          ]
         },
         "layout": {
          "annotationdefaults": {
           "arrowcolor": "#2a3f5f",
           "arrowhead": 0,
           "arrowwidth": 1
          },
          "autotypenumbers": "strict",
          "coloraxis": {
           "colorbar": {
            "outlinewidth": 0,
            "ticks": ""
           }
          },
          "colorscale": {
           "diverging": [
            [
             0,
             "#8e0152"
            ],
            [
             0.1,
             "#c51b7d"
            ],
            [
             0.2,
             "#de77ae"
            ],
            [
             0.3,
             "#f1b6da"
            ],
            [
             0.4,
             "#fde0ef"
            ],
            [
             0.5,
             "#f7f7f7"
            ],
            [
             0.6,
             "#e6f5d0"
            ],
            [
             0.7,
             "#b8e186"
            ],
            [
             0.8,
             "#7fbc41"
            ],
            [
             0.9,
             "#4d9221"
            ],
            [
             1,
             "#276419"
            ]
           ],
           "sequential": [
            [
             0,
             "#0d0887"
            ],
            [
             0.1111111111111111,
             "#46039f"
            ],
            [
             0.2222222222222222,
             "#7201a8"
            ],
            [
             0.3333333333333333,
             "#9c179e"
            ],
            [
             0.4444444444444444,
             "#bd3786"
            ],
            [
             0.5555555555555556,
             "#d8576b"
            ],
            [
             0.6666666666666666,
             "#ed7953"
            ],
            [
             0.7777777777777778,
             "#fb9f3a"
            ],
            [
             0.8888888888888888,
             "#fdca26"
            ],
            [
             1,
             "#f0f921"
            ]
           ],
           "sequentialminus": [
            [
             0,
             "#0d0887"
            ],
            [
             0.1111111111111111,
             "#46039f"
            ],
            [
             0.2222222222222222,
             "#7201a8"
            ],
            [
             0.3333333333333333,
             "#9c179e"
            ],
            [
             0.4444444444444444,
             "#bd3786"
            ],
            [
             0.5555555555555556,
             "#d8576b"
            ],
            [
             0.6666666666666666,
             "#ed7953"
            ],
            [
             0.7777777777777778,
             "#fb9f3a"
            ],
            [
             0.8888888888888888,
             "#fdca26"
            ],
            [
             1,
             "#f0f921"
            ]
           ]
          },
          "colorway": [
           "#636efa",
           "#EF553B",
           "#00cc96",
           "#ab63fa",
           "#FFA15A",
           "#19d3f3",
           "#FF6692",
           "#B6E880",
           "#FF97FF",
           "#FECB52"
          ],
          "font": {
           "color": "#2a3f5f"
          },
          "geo": {
           "bgcolor": "white",
           "lakecolor": "white",
           "landcolor": "#E5ECF6",
           "showlakes": true,
           "showland": true,
           "subunitcolor": "white"
          },
          "hoverlabel": {
           "align": "left"
          },
          "hovermode": "closest",
          "mapbox": {
           "style": "light"
          },
          "paper_bgcolor": "white",
          "plot_bgcolor": "#E5ECF6",
          "polar": {
           "angularaxis": {
            "gridcolor": "white",
            "linecolor": "white",
            "ticks": ""
           },
           "bgcolor": "#E5ECF6",
           "radialaxis": {
            "gridcolor": "white",
            "linecolor": "white",
            "ticks": ""
           }
          },
          "scene": {
           "xaxis": {
            "backgroundcolor": "#E5ECF6",
            "gridcolor": "white",
            "gridwidth": 2,
            "linecolor": "white",
            "showbackground": true,
            "ticks": "",
            "zerolinecolor": "white"
           },
           "yaxis": {
            "backgroundcolor": "#E5ECF6",
            "gridcolor": "white",
            "gridwidth": 2,
            "linecolor": "white",
            "showbackground": true,
            "ticks": "",
            "zerolinecolor": "white"
           },
           "zaxis": {
            "backgroundcolor": "#E5ECF6",
            "gridcolor": "white",
            "gridwidth": 2,
            "linecolor": "white",
            "showbackground": true,
            "ticks": "",
            "zerolinecolor": "white"
           }
          },
          "shapedefaults": {
           "line": {
            "color": "#2a3f5f"
           }
          },
          "ternary": {
           "aaxis": {
            "gridcolor": "white",
            "linecolor": "white",
            "ticks": ""
           },
           "baxis": {
            "gridcolor": "white",
            "linecolor": "white",
            "ticks": ""
           },
           "bgcolor": "#E5ECF6",
           "caxis": {
            "gridcolor": "white",
            "linecolor": "white",
            "ticks": ""
           }
          },
          "title": {
           "x": 0.05
          },
          "xaxis": {
           "automargin": true,
           "gridcolor": "white",
           "linecolor": "white",
           "ticks": "",
           "title": {
            "standoff": 15
           },
           "zerolinecolor": "white",
           "zerolinewidth": 2
          },
          "yaxis": {
           "automargin": true,
           "gridcolor": "white",
           "linecolor": "white",
           "ticks": "",
           "title": {
            "standoff": 15
           },
           "zerolinecolor": "white",
           "zerolinewidth": 2
          }
         }
        },
        "title": {
         "text": "Finanças da Empresa"
        },
        "yaxis": {
         "title": {
          "text": "Valores (R$)"
         }
        }
       }
      }
     },
     "metadata": {},
     "output_type": "display_data"
    }
   ],
   "source": [
    "# Configurando o gráfico de cascata\n",
    "fig = go.Figure(\n",
    "    go.Waterfall(\n",
    "        measure=medidas,  # Define o tipo de valor: 'absolute' (início), 'relative' (intermediários), 'total' (final)\n",
    "        x=indicadores,  # Categorias no eixo X\n",
    "        y=valores,  # Valores associados a cada categoria\n",
    "        text=[f'R$ {v:,.2f}' for v in valores],  # Formata os rótulos como valores monetários\n",
    "    )\n",
    ")\n",
    "\n",
    "# Adicionando título e legenda\n",
    "fig.update_layout(\n",
    "    title=\"Finanças da Empresa\",  # Título do gráfico\n",
    "    font=dict(size=14),  # Configura o tamanho da fonte\n",
    "    plot_bgcolor=\"white\",  # Define o fundo como branco\n",
    "    yaxis_title=\"Valores (R$)\",  # Título do eixo Y\n",
    ")\n",
    "\n",
    "# Exibindo o gráfico\n",
    "fig.show()"
   ]
  },
  {
   "cell_type": "markdown",
   "metadata": {
    "id": "4rIawlbsVuv5"
   },
   "source": [
    "- [`go.Waterfall`](https://plotly.com/python/waterfall-charts/)"
   ]
  },
  {
   "cell_type": "markdown",
   "metadata": {
    "id": "UUpqJFmn9GKK"
   },
   "source": [
    "---\n",
    "\n",
    "Esses exemplos ilustram visualizações que utilizamos para mostrar uma **representação estática**, ou seja, em um único ponto no tempo ou em uma situação fixa. Para uma representação **dinâmica**, podemos explorar outras formas de visualização, que veremos a seguir.\n",
    "\n",
    "---"
   ]
  },
  {
   "cell_type": "markdown",
   "metadata": {
    "id": "b-uMA3Txo-4H"
   },
   "source": [
    "### Gráfico de barras empilhadas"
   ]
  },
  {
   "cell_type": "markdown",
   "metadata": {
    "id": "6Iast2Sf14tI"
   },
   "source": [
    "Quando precisamos mostrar como diferentes categorias compõem um todo em **poucos períodos**, podemos utilizar o **gráfico de barras empilhadas**.\n",
    "\n",
    "No exemplo abaixo, apresentamos a composição dos tipos de acesso a um site ao longo de 3 trimestres."
   ]
  },
  {
   "cell_type": "code",
   "execution_count": 6,
   "metadata": {
    "id": "avYh77uQrkfB"
   },
   "outputs": [],
   "source": [
    "# Dados\n",
    "trimestres = ['1º Trimestre', '2º Trimestre', '3º Trimestre']  # Períodos\n",
    "redes_sociais = [1200, 1500, 1700]  # Acessos via redes sociais\n",
    "pesquisa_google = [900, 1100, 1400]  # Acessos via pesquisa no Google\n",
    "acesso_direto = [800, 700, 600]  # Acessos diretos"
   ]
  },
  {
   "cell_type": "code",
   "execution_count": 7,
   "metadata": {
    "colab": {
     "base_uri": "https://localhost:8080/",
     "height": 555
    },
    "executionInfo": {
     "elapsed": 711,
     "status": "ok",
     "timestamp": 1736532603606,
     "user": {
      "displayName": "Mirla Borges",
      "userId": "16057667184099544912"
     },
     "user_tz": 180
    },
    "id": "UM8LeWbcsXTL",
    "outputId": "61318a6f-3a65-46e1-e542-3991686c29d1"
   },
   "outputs": [
    {
     "data": {
      "image/png": "[encoded data removed]",
      "text/plain": [
       "<Figure size 1000x600 with 1 Axes>"
      ]
     },
     "metadata": {},
     "output_type": "display_data"
    }
   ],
   "source": [
    "# Configuração das barras\n",
    "largura_barra = 0.6  # Largura das barras\n",
    "x = np.arange(len(trimestres))  # Posições no eixo X\n",
    "\n",
    "# Criando o gráfico de barras empilhadas\n",
    "plt.figure(figsize=(10, 6))\n",
    "plt.bar(x, redes_sociais, label='Redes Sociais', color='#76c7c0', width=largura_barra)\n",
    "plt.bar(x, pesquisa_google, label='Pesquisa no Google', color='#4a90e2', width=largura_barra,\n",
    "        bottom=redes_sociais)\n",
    "plt.bar(x, acesso_direto, label='Acesso Direto', color='#ff6f61', width=largura_barra,\n",
    "        bottom=np.array(redes_sociais) + np.array(pesquisa_google))\n",
    "\n",
    "# Adicionando informações no gráfico\n",
    "plt.xticks(x, trimestres, fontsize=12)  # Define os rótulos no eixo X\n",
    "plt.ylabel('Número de Acessos', fontsize=14)  # Define o rótulo do eixo Y\n",
    "plt.title('Formas de Acesso ao Site por Trimestre', fontsize=16, loc='left')  # Adiciona o título\n",
    "plt.legend()  # Adiciona a legenda\n",
    "\n",
    "# Ajuste final e exibição\n",
    "plt.tight_layout()\n",
    "plt.show()"
   ]
  },
  {
   "cell_type": "markdown",
   "metadata": {
    "id": "adLgS6c5V3ly"
   },
   "source": [
    "- [`plt.bar`](https://matplotlib.org/stable/api/_as_gen/matplotlib.pyplot.bar.html)"
   ]
  },
  {
   "cell_type": "markdown",
   "metadata": {
    "id": "xsHNnG3KpFDK"
   },
   "source": [
    "### Expandindo o material: Gráfico de áreas empilhadas"
   ]
  },
  {
   "cell_type": "markdown",
   "metadata": {
    "id": "4KfQY4oJ-5yG"
   },
   "source": [
    "Quando precisamos mostrar como diferentes categorias compõem um todo em **muitos períodos**, podemos utilizar o **gráfico de áreas empilhadas**.\n",
    "\n",
    "No exemplo abaixo, apresentamos a proporção de queimadas por biomas ao longo de vários anos. A apresentação adotada é através das porcentagens relativas de queimadas para cada bioma."
   ]
  },
  {
   "cell_type": "code",
   "execution_count": 8,
   "metadata": {
    "id": "knfB4vL8rmTI"
   },
   "outputs": [],
   "source": [
    "# Dados\n",
    "anos = ['2000', '2005', '2010', '2015', '2020']  # Períodos\n",
    "floresta = [2000, 2500, 1800, 2200, 2100]  # Queimadas na floresta (em números absolutos)\n",
    "savana = [1500, 2000, 2300, 2400, 2800]  # Queimadas na savana (em números absolutos)\n",
    "deserto = [800, 900, 1000, 1100, 1200]  # Queimadas no deserto (em números absolutos)\n",
    "\n",
    "# Calculando os valores relativos (em %)\n",
    "totais = np.array(floresta) + np.array(savana) + np.array(deserto)  # Soma total de queimadas por ano\n",
    "floresta_percent = (np.array(floresta) / totais) * 100  # Porcentagem de queimadas na floresta\n",
    "savana_percent = (np.array(savana) / totais) * 100  # Porcentagem de queimadas na savana\n",
    "deserto_percent = (np.array(deserto) / totais) * 100  # Porcentagem de queimadas no deserto"
   ]
  },
  {
   "cell_type": "code",
   "execution_count": 9,
   "metadata": {
    "id": "TuHFN0XzpLDY"
   },
   "outputs": [
    {
     "data": {
      "application/vnd.plotly.v1+json": {
       "config": {
        "plotlyServerURL": "https://plot.ly"
       },
       "data": [
        {
         "line": {
          "color": "#76c7c0",
          "width": 0.5
         },
         "mode": "lines",
         "name": "Floresta",
         "stackgroup": "one",
         "type": "scatter",
         "x": [
          "2000",
          "2005",
          "2010",
          "2015",
          "2020"
         ],
         "y": {
          "bdata": "0Bf0BX1BR0BfQnsJ7SVHQKalpaWlpUFAxXQW01lMQ0DFJUOwjjZBQA==",
          "dtype": "f8"
         }
        },
        {
         "line": {
          "color": "#ffd700",
          "width": 0.5
         },
         "mode": "lines",
         "name": "Savana",
         "stackgroup": "one",
         "type": "scatter",
         "x": [
          "2000",
          "2005",
          "2010",
          "2015",
          "2020"
         ],
         "y": {
          "bdata": "3BF3xB1xQUBMaC+hvYRCQI2MjIyMjEZA11BeQ3kNRUBcMgTraPNGQA==",
          "dtype": "f8"
         }
        },
        {
         "line": {
          "color": "#ff6f61",
          "width": 0.5
         },
         "mode": "lines",
         "name": "Deserto",
         "stackgroup": "one",
         "type": "scatter",
         "x": [
          "2000",
          "2005",
          "2010",
          "2015",
          "2020"
         ],
         "y": {
          "bdata": "p6wpa8qaMkCqqqqqqqowQJybm5ubmzNAxXQW01lMM0C9T3HJEKwzQA==",
          "dtype": "f8"
         }
        }
       ],
       "layout": {
        "plot_bgcolor": "white",
        "template": {
         "data": {
          "bar": [
           {
            "error_x": {
             "color": "#2a3f5f"
            },
            "error_y": {
             "color": "#2a3f5f"
            },
            "marker": {
             "line": {
              "color": "#E5ECF6",
              "width": 0.5
             },
             "pattern": {
              "fillmode": "overlay",
              "size": 10,
              "solidity": 0.2
             }
            },
            "type": "bar"
           }
          ],
          "barpolar": [
           {
            "marker": {
             "line": {
              "color": "#E5ECF6",
              "width": 0.5
             },
             "pattern": {
              "fillmode": "overlay",
              "size": 10,
              "solidity": 0.2
             }
            },
            "type": "barpolar"
           }
          ],
          "carpet": [
           {
            "aaxis": {
             "endlinecolor": "#2a3f5f",
             "gridcolor": "white",
             "linecolor": "white",
             "minorgridcolor": "white",
             "startlinecolor": "#2a3f5f"
            },
            "baxis": {
             "endlinecolor": "#2a3f5f",
             "gridcolor": "white",
             "linecolor": "white",
             "minorgridcolor": "white",
             "startlinecolor": "#2a3f5f"
            },
            "type": "carpet"
           }
          ],
          "choropleth": [
           {
            "colorbar": {
             "outlinewidth": 0,
             "ticks": ""
            },
            "type": "choropleth"
           }
          ],
          "contour": [
           {
            "colorbar": {
             "outlinewidth": 0,
             "ticks": ""
            },
            "colorscale": [
             [
              0,
              "#0d0887"
             ],
             [
              0.1111111111111111,
              "#46039f"
             ],
             [
              0.2222222222222222,
              "#7201a8"
             ],
             [
              0.3333333333333333,
              "#9c179e"
             ],
             [
              0.4444444444444444,
              "#bd3786"
             ],
             [
              0.5555555555555556,
              "#d8576b"
             ],
             [
              0.6666666666666666,
              "#ed7953"
             ],
             [
              0.7777777777777778,
              "#fb9f3a"
             ],
             [
              0.8888888888888888,
              "#fdca26"
             ],
             [
              1,
              "#f0f921"
             ]
            ],
            "type": "contour"
           }
          ],
          "contourcarpet": [
           {
            "colorbar": {
             "outlinewidth": 0,
             "ticks": ""
            },
            "type": "contourcarpet"
           }
          ],
          "heatmap": [
           {
            "colorbar": {
             "outlinewidth": 0,
             "ticks": ""
            },
            "colorscale": [
             [
              0,
              "#0d0887"
             ],
             [
              0.1111111111111111,
              "#46039f"
             ],
             [
              0.2222222222222222,
              "#7201a8"
             ],
             [
              0.3333333333333333,
              "#9c179e"
             ],
             [
              0.4444444444444444,
              "#bd3786"
             ],
             [
              0.5555555555555556,
              "#d8576b"
             ],
             [
              0.6666666666666666,
              "#ed7953"
             ],
             [
              0.7777777777777778,
              "#fb9f3a"
             ],
             [
              0.8888888888888888,
              "#fdca26"
             ],
             [
              1,
              "#f0f921"
             ]
            ],
            "type": "heatmap"
           }
          ],
          "histogram": [
           {
            "marker": {
             "pattern": {
              "fillmode": "overlay",
              "size": 10,
              "solidity": 0.2
             }
            },
            "type": "histogram"
           }
          ],
          "histogram2d": [
           {
            "colorbar": {
             "outlinewidth": 0,
             "ticks": ""
            },
            "colorscale": [
             [
              0,
              "#0d0887"
             ],
             [
              0.1111111111111111,
              "#46039f"
             ],
             [
              0.2222222222222222,
              "#7201a8"
             ],
             [
              0.3333333333333333,
              "#9c179e"
             ],
             [
              0.4444444444444444,
              "#bd3786"
             ],
             [
              0.5555555555555556,
              "#d8576b"
             ],
             [
              0.6666666666666666,
              "#ed7953"
             ],
             [
              0.7777777777777778,
              "#fb9f3a"
             ],
             [
              0.8888888888888888,
              "#fdca26"
             ],
             [
              1,
              "#f0f921"
             ]
            ],
            "type": "histogram2d"
           }
          ],
          "histogram2dcontour": [
           {
            "colorbar": {
             "outlinewidth": 0,
             "ticks": ""
            },
            "colorscale": [
             [
              0,
              "#0d0887"
             ],
             [
              0.1111111111111111,
              "#46039f"
             ],
             [
              0.2222222222222222,
              "#7201a8"
             ],
             [
              0.3333333333333333,
              "#9c179e"
             ],
             [
              0.4444444444444444,
              "#bd3786"
             ],
             [
              0.5555555555555556,
              "#d8576b"
             ],
             [
              0.6666666666666666,
              "#ed7953"
             ],
             [
              0.7777777777777778,
              "#fb9f3a"
             ],
             [
              0.8888888888888888,
              "#fdca26"
             ],
             [
              1,
              "#f0f921"
             ]
            ],
            "type": "histogram2dcontour"
           }
          ],
          "mesh3d": [
           {
            "colorbar": {
             "outlinewidth": 0,
             "ticks": ""
            },
            "type": "mesh3d"
           }
          ],
          "parcoords": [
           {
            "line": {
             "colorbar": {
              "outlinewidth": 0,
              "ticks": ""
             }
            },
            "type": "parcoords"
           }
          ],
          "pie": [
           {
            "automargin": true,
            "type": "pie"
           }
          ],
          "scatter": [
           {
            "fillpattern": {
             "fillmode": "overlay",
             "size": 10,
             "solidity": 0.2
            },
            "type": "scatter"
           }
          ],
          "scatter3d": [
           {
            "line": {
             "colorbar": {
              "outlinewidth": 0,
              "ticks": ""
             }
            },
            "marker": {
             "colorbar": {
              "outlinewidth": 0,
              "ticks": ""
             }
            },
            "type": "scatter3d"
           }
          ],
          "scattercarpet": [
           {
            "marker": {
             "colorbar": {
              "outlinewidth": 0,
              "ticks": ""
             }
            },
            "type": "scattercarpet"
           }
          ],
          "scattergeo": [
           {
            "marker": {
             "colorbar": {
              "outlinewidth": 0,
              "ticks": ""
             }
            },
            "type": "scattergeo"
           }
          ],
          "scattergl": [
           {
            "marker": {
             "colorbar": {
              "outlinewidth": 0,
              "ticks": ""
             }
            },
            "type": "scattergl"
           }
          ],
          "scattermap": [
           {
            "marker": {
             "colorbar": {
              "outlinewidth": 0,
              "ticks": ""
             }
            },
            "type": "scattermap"
           }
          ],
          "scattermapbox": [
           {
            "marker": {
             "colorbar": {
              "outlinewidth": 0,
              "ticks": ""
             }
            },
            "type": "scattermapbox"
           }
          ],
          "scatterpolar": [
           {
            "marker": {
             "colorbar": {
              "outlinewidth": 0,
              "ticks": ""
             }
            },
            "type": "scatterpolar"
           }
          ],
          "scatterpolargl": [
           {
            "marker": {
             "colorbar": {
              "outlinewidth": 0,
              "ticks": ""
             }
            },
            "type": "scatterpolargl"
           }
          ],
          "scatterternary": [
           {
            "marker": {
             "colorbar": {
              "outlinewidth": 0,
              "ticks": ""
             }
            },
            "type": "scatterternary"
           }
          ],
          "surface": [
           {
            "colorbar": {
             "outlinewidth": 0,
             "ticks": ""
            },
            "colorscale": [
             [
              0,
              "#0d0887"
             ],
             [
              0.1111111111111111,
              "#46039f"
             ],
             [
              0.2222222222222222,
              "#7201a8"
             ],
             [
              0.3333333333333333,
              "#9c179e"
             ],
             [
              0.4444444444444444,
              "#bd3786"
             ],
             [
              0.5555555555555556,
              "#d8576b"
             ],
             [
              0.6666666666666666,
              "#ed7953"
             ],
             [
              0.7777777777777778,
              "#fb9f3a"
             ],
             [
              0.8888888888888888,
              "#fdca26"
             ],
             [
              1,
              "#f0f921"
             ]
            ],
            "type": "surface"
           }
          ],
          "table": [
           {
            "cells": {
             "fill": {
              "color": "#EBF0F8"
             },
             "line": {
              "color": "white"
             }
            },
            "header": {
             "fill": {
              "color": "#C8D4E3"
             },
             "line": {
              "color": "white"
             }
            },
            "type": "table"
           }
          ]
         },
         "layout": {
          "annotationdefaults": {
           "arrowcolor": "#2a3f5f",
           "arrowhead": 0,
           "arrowwidth": 1
          },
          "autotypenumbers": "strict",
          "coloraxis": {
           "colorbar": {
            "outlinewidth": 0,
            "ticks": ""
           }
          },
          "colorscale": {
           "diverging": [
            [
             0,
             "#8e0152"
            ],
            [
             0.1,
             "#c51b7d"
            ],
            [
             0.2,
             "#de77ae"
            ],
            [
             0.3,
             "#f1b6da"
            ],
            [
             0.4,
             "#fde0ef"
            ],
            [
             0.5,
             "#f7f7f7"
            ],
            [
             0.6,
             "#e6f5d0"
            ],
            [
             0.7,
             "#b8e186"
            ],
            [
             0.8,
             "#7fbc41"
            ],
            [
             0.9,
             "#4d9221"
            ],
            [
             1,
             "#276419"
            ]
           ],
           "sequential": [
            [
             0,
             "#0d0887"
            ],
            [
             0.1111111111111111,
             "#46039f"
            ],
            [
             0.2222222222222222,
             "#7201a8"
            ],
            [
             0.3333333333333333,
             "#9c179e"
            ],
            [
             0.4444444444444444,
             "#bd3786"
            ],
            [
             0.5555555555555556,
             "#d8576b"
            ],
            [
             0.6666666666666666,
             "#ed7953"
            ],
            [
             0.7777777777777778,
             "#fb9f3a"
            ],
            [
             0.8888888888888888,
             "#fdca26"
            ],
            [
             1,
             "#f0f921"
            ]
           ],
           "sequentialminus": [
            [
             0,
             "#0d0887"
            ],
            [
             0.1111111111111111,
             "#46039f"
            ],
            [
             0.2222222222222222,
             "#7201a8"
            ],
            [
             0.3333333333333333,
             "#9c179e"
            ],
            [
             0.4444444444444444,
             "#bd3786"
            ],
            [
             0.5555555555555556,
             "#d8576b"
            ],
            [
             0.6666666666666666,
             "#ed7953"
            ],
            [
             0.7777777777777778,
             "#fb9f3a"
            ],
            [
             0.8888888888888888,
             "#fdca26"
            ],
            [
             1,
             "#f0f921"
            ]
           ]
          },
          "colorway": [
           "#636efa",
           "#EF553B",
           "#00cc96",
           "#ab63fa",
           "#FFA15A",
           "#19d3f3",
           "#FF6692",
           "#B6E880",
           "#FF97FF",
           "#FECB52"
          ],
          "font": {
           "color": "#2a3f5f"
          },
          "geo": {
           "bgcolor": "white",
           "lakecolor": "white",
           "landcolor": "#E5ECF6",
           "showlakes": true,
           "showland": true,
           "subunitcolor": "white"
          },
          "hoverlabel": {
           "align": "left"
          },
          "hovermode": "closest",
          "mapbox": {
           "style": "light"
          },
          "paper_bgcolor": "white",
          "plot_bgcolor": "#E5ECF6",
          "polar": {
           "angularaxis": {
            "gridcolor": "white",
            "linecolor": "white",
            "ticks": ""
           },
           "bgcolor": "#E5ECF6",
           "radialaxis": {
            "gridcolor": "white",
            "linecolor": "white",
            "ticks": ""
           }
          },
          "scene": {
           "xaxis": {
            "backgroundcolor": "#E5ECF6",
            "gridcolor": "white",
            "gridwidth": 2,
            "linecolor": "white",
            "showbackground": true,
            "ticks": "",
            "zerolinecolor": "white"
           },
           "yaxis": {
            "backgroundcolor": "#E5ECF6",
            "gridcolor": "white",
            "gridwidth": 2,
            "linecolor": "white",
            "showbackground": true,
            "ticks": "",
            "zerolinecolor": "white"
           },
           "zaxis": {
            "backgroundcolor": "#E5ECF6",
            "gridcolor": "white",
            "gridwidth": 2,
            "linecolor": "white",
            "showbackground": true,
            "ticks": "",
            "zerolinecolor": "white"
           }
          },
          "shapedefaults": {
           "line": {
            "color": "#2a3f5f"
           }
          },
          "ternary": {
           "aaxis": {
            "gridcolor": "white",
            "linecolor": "white",
            "ticks": ""
           },
           "baxis": {
            "gridcolor": "white",
            "linecolor": "white",
            "ticks": ""
           },
           "bgcolor": "#E5ECF6",
           "caxis": {
            "gridcolor": "white",
            "linecolor": "white",
            "ticks": ""
           }
          },
          "title": {
           "x": 0.05
          },
          "xaxis": {
           "automargin": true,
           "gridcolor": "white",
           "linecolor": "white",
           "ticks": "",
           "title": {
            "standoff": 15
           },
           "zerolinecolor": "white",
           "zerolinewidth": 2
          },
          "yaxis": {
           "automargin": true,
           "gridcolor": "white",
           "linecolor": "white",
           "ticks": "",
           "title": {
            "standoff": 15
           },
           "zerolinecolor": "white",
           "zerolinewidth": 2
          }
         }
        },
        "title": {
         "text": "Proporção Relativa de Queimadas por Bioma (2000-2020)"
        },
        "yaxis": {
         "ticksuffix": "%"
        }
       }
      }
     },
     "metadata": {},
     "output_type": "display_data"
    }
   ],
   "source": [
    "# Criando o gráfico de áreas empilhadas\n",
    "fig = go.Figure()\n",
    "\n",
    "# Adicionando os dados da floresta ao gráfico\n",
    "fig.add_trace(go.Scatter(\n",
    "    x=anos,  # Eixo X (anos)\n",
    "    y=floresta_percent,  # Eixo Y (porcentagem de queimadas na floresta)\n",
    "    mode='lines',  # Modo de exibição: linhas conectando os pontos\n",
    "    stackgroup='one',  # Empilhamento das áreas\n",
    "    name='Floresta',  # Nome da legenda\n",
    "    line=dict(width=0.5, color='#76c7c0')  # Estilo da linha (verde claro)\n",
    "))\n",
    "\n",
    "# Adicionando os dados da savana ao gráfico\n",
    "fig.add_trace(go.Scatter(\n",
    "    x=anos,\n",
    "    y=savana_percent,  # Eixo Y (porcentagem de queimadas na savana)\n",
    "    mode='lines',\n",
    "    stackgroup='one',\n",
    "    name='Savana',\n",
    "    line=dict(width=0.5, color='#ffd700')  # Estilo da linha (amarelo)\n",
    "))\n",
    "\n",
    "# Adicionando os dados do deserto ao gráfico\n",
    "fig.add_trace(go.Scatter(\n",
    "    x=anos,\n",
    "    y=deserto_percent,  # Eixo Y (porcentagem de queimadas no deserto)\n",
    "    mode='lines',\n",
    "    stackgroup='one',\n",
    "    name='Deserto',\n",
    "    line=dict(width=0.5, color='#ff6f61')  # Estilo da linha (vermelho)\n",
    "))\n",
    "\n",
    "# Configurando o layout\n",
    "fig.update_layout(\n",
    "    title='Proporção Relativa de Queimadas por Bioma (2000-2020)',  # Título\n",
    "    yaxis=dict(ticksuffix='%'),  # Eixo Y com sufixo de porcentagem\n",
    "    plot_bgcolor='white',  # Fundo branco\n",
    ")\n",
    "\n",
    "# Exibindo o gráfico\n",
    "fig.show()"
   ]
  },
  {
   "cell_type": "markdown",
   "metadata": {
    "id": "_55XkB9uWB1H"
   },
   "source": [
    "- [`go.Scatter`](https://plotly.com/python-api-reference/generated/plotly.graph_objects.Scatter.html)"
   ]
  },
  {
   "cell_type": "markdown",
   "metadata": {
    "id": "J4_Q-H2AvYti"
   },
   "source": [
    "## Relacionamento"
   ]
  },
  {
   "cell_type": "markdown",
   "metadata": {
    "id": "FozCjkSgCSmm"
   },
   "source": [
    "Agora podemos seguir para os gráficos de **relacionamento**!\n",
    "\n",
    "Utilizamos gráficos de relacionamento em visualizações quando queremos mostrar a relação entre variáveis."
   ]
  },
  {
   "cell_type": "markdown",
   "metadata": {
    "id": "XCWXnxwsy3B0"
   },
   "source": [
    "### Gráfico de dispersão"
   ]
  },
  {
   "cell_type": "markdown",
   "metadata": {
    "id": "oVRuV0O2GW4c"
   },
   "source": [
    "Quando queremos mostrar a relação entre duas variáveis numéricas, utilizamos um **gráfico de dispersão**.\n",
    "\n",
    "No exemplo abaixo, apresentamos a relação entre os valores obtidos em **vendas** e o **investimento em marketing**."
   ]
  },
  {
   "cell_type": "code",
   "execution_count": 10,
   "metadata": {
    "id": "YlWOhCQprr0n"
   },
   "outputs": [],
   "source": [
    "# Dados\n",
    "np.random.seed(40)  # Garante reprodutibilidade\n",
    "investimento_marketing = np.linspace(1000, 10000, 100)  # Valores de investimento (R$1.000 a R$10.000)\n",
    "vendas = investimento_marketing * 2 + np.random.normal(0, 500, 100)  # Vendas com uma relação linear e variação aleatória"
   ]
  },
  {
   "cell_type": "code",
   "execution_count": 11,
   "metadata": {
    "colab": {
     "base_uri": "https://localhost:8080/",
     "height": 555
    },
    "executionInfo": {
     "elapsed": 1061,
     "status": "ok",
     "timestamp": 1736532670523,
     "user": {
      "displayName": "Mirla Borges",
      "userId": "16057667184099544912"
     },
     "user_tz": 180
    },
    "id": "xzJrzPWBxWIy",
    "outputId": "6e34801d-11da-4fd0-9e5a-f7ac22ba6a1c"
   },
   "outputs": [
    {
     "data": {
      "image/png": "[encoded data removed]",
      "text/plain": [
       "<Figure size 1000x600 with 1 Axes>"
      ]
     },
     "metadata": {},
     "output_type": "display_data"
    }
   ],
   "source": [
    "# Criando o gráfico de dispersão\n",
    "plt.figure(figsize=(10, 6))  # Define o tamanho da figura\n",
    "plt.scatter(investimento_marketing, vendas, color='#4a90e2')  # Cria os pontos de dispersão (azul)\n",
    "\n",
    "# Personalizando o gráfico\n",
    "plt.title('Relação entre Investimento em Marketing e Vendas', fontsize=16, loc='left')  # Adiciona o título\n",
    "plt.xlabel('Investimento em Marketing (R$)', fontsize=12)  # Adiciona o rótulo do eixo X\n",
    "plt.ylabel('Vendas (R$)', fontsize=12)  # Adiciona o rótulo do eixo Y\n",
    "plt.grid(True, alpha=0.4)  # Adiciona uma grade leve no fundo\n",
    "\n",
    "# Ajustando o layout e exibindo o gráfico\n",
    "plt.tight_layout()  # Ajusta os elementos para evitar sobreposição\n",
    "plt.show()"
   ]
  },
  {
   "cell_type": "markdown",
   "metadata": {
    "id": "Ysr_Oc0vWQp_"
   },
   "source": [
    "- [`plt.scatter`](https://matplotlib.org/stable/api/_as_gen/matplotlib.pyplot.scatter.html)"
   ]
  },
  {
   "cell_type": "markdown",
   "metadata": {
    "id": "ZdRp0TPdjr0l"
   },
   "source": [
    "### Expandindo o material: Reta de tendência"
   ]
  },
  {
   "cell_type": "markdown",
   "metadata": {
    "id": "0ZlCZK6BHOB2"
   },
   "source": [
    "Nesses exemplos, também é comum adicionar uma **reta de tendência** para destacar de forma mais clara o comportamento da relação entre as variáveis."
   ]
  },
  {
   "cell_type": "code",
   "execution_count": 12,
   "metadata": {
    "colab": {
     "base_uri": "https://localhost:8080/",
     "height": 607
    },
    "executionInfo": {
     "elapsed": 731,
     "status": "ok",
     "timestamp": 1736371275206,
     "user": {
      "displayName": "Mirla Borges",
      "userId": "16057667184099544912"
     },
     "user_tz": 180
    },
    "id": "DJ3hWlosyK3Q",
    "outputId": "92bec7fa-d4bc-42fa-beb5-a8348c31ecfa"
   },
   "outputs": [
    {
     "data": {
      "image/png": "[encoded data removed]",
      "text/plain": [
       "<Figure size 1000x600 with 1 Axes>"
      ]
     },
     "metadata": {},
     "output_type": "display_data"
    }
   ],
   "source": [
    "# Criando o gráfico de dispersão\n",
    "plt.figure(figsize=(10, 6))  # Define o tamanho da figura\n",
    "plt.scatter(investimento_marketing, vendas, color='#4a90e2')  # Cria os pontos de dispersão (azul)\n",
    "\n",
    "# Adicionando uma linha de tendência (reta)\n",
    "coef = np.polyfit(investimento_marketing, vendas, 1)  # Calcula os coeficientes da reta de tendência\n",
    "linha_tendencia = np.polyval(coef, investimento_marketing)  # Calcula os valores da reta\n",
    "plt.plot(investimento_marketing, linha_tendencia, color='black', linewidth=2, label='Reta de Tendência')  # Adiciona a reta\n",
    "\n",
    "# Personalizando o gráfico\n",
    "plt.title('Relação entre Investimento em Marketing e Vendas', fontsize=16, loc='left')  # Adiciona o título\n",
    "plt.xlabel('Investimento em Marketing (R$)', fontsize=12)  # Adiciona o rótulo do eixo X\n",
    "plt.ylabel('Vendas (R$)', fontsize=12)  # Adiciona o rótulo do eixo Y\n",
    "plt.grid(True, alpha=0.4)  # Adiciona uma grade leve no fundo\n",
    "plt.legend(fontsize=12)  # Adiciona a legenda\n",
    "\n",
    "# Ajustando o layout e exibindo o gráfico\n",
    "plt.tight_layout()  # Ajusta os elementos para evitar sobreposição\n",
    "plt.show()"
   ]
  },
  {
   "cell_type": "markdown",
   "metadata": {
    "id": "7Fpay_bOWUKo"
   },
   "source": [
    "- [`np.polyfit`](https://numpy.org/doc/stable/reference/generated/numpy.polyfit.html)\n",
    "- [`np.polyval`](https://numpy.org/doc/stable/reference/generated/numpy.polyval.html)\n",
    "- [`plt.plot`](https://matplotlib.org/stable/api/_as_gen/matplotlib.pyplot.plot.html)"
   ]
  },
  {
   "cell_type": "markdown",
   "metadata": {
    "id": "-y4QDK46v_cp"
   },
   "source": [
    "### Expandindo o material: Matriz de correlação"
   ]
  },
  {
   "cell_type": "markdown",
   "metadata": {
    "id": "LFeQHO4iwHtH"
   },
   "source": [
    "Utilizamos o gráfico de matriz de correlação para entender, de forma visual, a relação entre variáveis em nosso conjunto de dados.\n",
    "\n",
    "A matriz apresenta os **coeficientes de correlação** entre todas as combinações de variáveis, variando de **-1** a **1**:\n",
    "- **-1**: Correlação negativa perfeita (as variáveis se movem em direções opostas).\n",
    "- **1**: Correlação positiva perfeita (as variáveis se movem na mesma direção).\n",
    "- **0**: Ausência de correlação (não há relação linear entre as variáveis).\n",
    "\n",
    "Saiba mais sobre a matriz de correlação [neste artigo](https://www.alura.com.br/artigos/tipo-de-visualizacao-de-dados?srsltid=AfmBOop3lo0vltYH_Amjl7KKg3Xg_8OD46YKZmX8Y73EXEXqkj3YrucW#tipos-de-visualizacao-de-dados:~:text=de%20fazer%20conclus%C3%B5es.-,Matriz%20de%20correla%C3%A7%C3%A3o,-O%20nosso%20%C3%BAltimo)"
   ]
  },
  {
   "cell_type": "code",
   "execution_count": 13,
   "metadata": {
    "id": "YX393kexxWSk"
   },
   "outputs": [],
   "source": [
    "import pandas as pd\n",
    "import seaborn as sns\n",
    "\n",
    "# Dados\n",
    "np.random.seed(40)  # Garante reprodutibilidade\n",
    "X = np.random.rand(100)  # Variável X (aleatória entre 0 e 1)\n",
    "Y = 2 * X + np.random.normal(0, 0.1, 100)  # Variável Y (linearmente relacionada a X)\n",
    "Z = np.random.rand(100)  # Variável Z (independente de X e Y)\n",
    "\n",
    "# Criando um DataFrame com as variáveis\n",
    "dados = pd.DataFrame({'X': X, 'Y': Y, 'Z': Z})"
   ]
  },
  {
   "cell_type": "code",
   "execution_count": 14,
   "metadata": {
    "colab": {
     "base_uri": "https://localhost:8080/",
     "height": 470
    },
    "executionInfo": {
     "elapsed": 373,
     "status": "ok",
     "timestamp": 1736438216451,
     "user": {
      "displayName": "Mirla Borges",
      "userId": "16057667184099544912"
     },
     "user_tz": 180
    },
    "id": "auD-py0CxNdC",
    "outputId": "7991e7a8-864b-4555-c896-fb48fb2592d5"
   },
   "outputs": [
    {
     "data": {
      "image/png": "[encoded data removed]",
      "text/plain": [
       "<Figure size 600x500 with 2 Axes>"
      ]
     },
     "metadata": {},
     "output_type": "display_data"
    }
   ],
   "source": [
    "# Calculando a matriz de correlação\n",
    "correlacao = dados.corr()\n",
    "\n",
    "# Exibindo a matriz de correlação\n",
    "plt.figure(figsize=(6, 5))  # Define o tamanho do gráfico\n",
    "sns.heatmap(correlacao, annot=True, cmap='coolwarm', fmt='.2f', linewidths=0.5)  # Cria o gráfico de calor\n",
    "# annot=True: Adiciona os valores na matriz\n",
    "# cmap='coolwarm': Define o gradiente de cores\n",
    "# fmt='.2f': Formata os valores com 2 casas decimais\n",
    "# linewidths=0.5: Define o espaçamento entre as células\n",
    "\n",
    "plt.title('Matriz de Correlação', fontsize=16)  # Adiciona um título ao gráfico\n",
    "plt.show()  # Exibe o gráfico"
   ]
  },
  {
   "cell_type": "markdown",
   "metadata": {
    "id": "Pms6AkgY4m2W"
   },
   "source": [
    "- [`sns.heatmap`](https://seaborn.pydata.org/generated/seaborn.heatmap.html)"
   ]
  },
  {
   "cell_type": "markdown",
   "metadata": {
    "id": "gFVVgCuWHZmv"
   },
   "source": [
    "## Finalização\n",
    "\n",
    "Com isso, você aprendeu como construir visualizações para gráficos de **composição** e **relacionamento** usando Python!\n",
    "\n",
    "Agora é o momento ideal para praticar o conhecimento adquirido com os exercícios disponibilizados após este material. Fique à vontade para compartilhar o que você aprendeu e ajudar outras pessoas.\n",
    "\n",
    "**Boas práticas e bons estudos!**"
   ]
  }
 ],
 "metadata": {
  "colab": {
   "authorship_tag": "ABX9TyO1WWXDghWYLb4lNYuOLe6u",
   "provenance": [
    {
     "file_id": "1sX405jkJfA85of5hWuaO536E_VO_Uw0M",
     "timestamp": 1736439093745
    }
   ],
   "toc_visible": true
  },
  "kernelspec": {
   "display_name": "Python 3",
   "name": "python3"
  },
  "language_info": {
   "codemirror_mode": {
    "name": "ipython",
    "version": 3
   },
   "file_extension": ".py",
   "mimetype": "text/x-python",
   "name": "python",
   "nbconvert_exporter": "python",
   "pygments_lexer": "ipython3",
   "version": "3.12.9"
  }
 },
 "nbformat": 4,
 "nbformat_minor": 0
}
